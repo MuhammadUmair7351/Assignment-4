{
 "cells": [
  {
   "cell_type": "code",
   "execution_count": 1,
   "id": "4d498fc0",
   "metadata": {},
   "outputs": [
    {
     "name": "stdout",
     "output_type": "stream",
     "text": [
      "Twinkle, twinkle, little star,\n",
      "\t How I wonder what you are!\n",
      "\t\t Up above the world so high,\n",
      "\t\t Like a diamond in the sky.\n",
      "Twinkle, twinkle, little star,\n",
      "\t\t How I wonder what you are\n"
     ]
    }
   ],
   "source": [
    "# 1. Write a Python program to print the following string in a specific format (see the output)?\n",
    "print(\"Twinkle, twinkle, little star,\\n\\t How I wonder what you are!\\n\\t\\t Up above the world so high,\\n\\t\\t Like a diamond in the sky.\\nTwinkle, twinkle, little star,\\n\\t\\t How I wonder what you are\");"
   ]
  },
  {
   "cell_type": "code",
   "execution_count": 2,
   "id": "b614cfe4",
   "metadata": {},
   "outputs": [
    {
     "name": "stdout",
     "output_type": "stream",
     "text": [
      "Python version\n",
      "3.8.8 (default, Apr 13 2021, 15:08:03) [MSC v.1916 64 bit (AMD64)]\n"
     ]
    }
   ],
   "source": [
    "# 2. Write a Python program to get the Python version you are using?\n",
    "import sys;\n",
    "print(\"Python version\");\n",
    "print (sys.version);"
   ]
  },
  {
   "cell_type": "code",
   "execution_count": 3,
   "id": "5a00359c",
   "metadata": {},
   "outputs": [
    {
     "name": "stdout",
     "output_type": "stream",
     "text": [
      "Current date and time : \n",
      "2021-10-24 12:02:38\n"
     ]
    }
   ],
   "source": [
    "# 3. Write a Python program to display the current date and time?\n",
    "import datetime;\n",
    "now = datetime.datetime.now();\n",
    "print (\"Current date and time : \");\n",
    "print (now.strftime(\"%Y-%m-%d %H:%M:%S\"));"
   ]
  },
  {
   "cell_type": "code",
   "execution_count": 15,
   "id": "12fbe605",
   "metadata": {},
   "outputs": [
    {
     "name": "stdout",
     "output_type": "stream",
     "text": [
      "Enter the radius of the circle: 8\n",
      "Radius = 8.0\n",
      "Area =  201.06176\n"
     ]
    }
   ],
   "source": [
    "# 4. Write a Python program which accepts the radius of a circle from the user and compute the area?\n",
    "r = float(input(\"Enter the radius of the circle: \"));\n",
    "area = 3.14159 * r * r;\n",
    "print(\"Radius =\", r);\n",
    "print(\"Area = \", area)"
   ]
  },
  {
   "cell_type": "code",
   "execution_count": 26,
   "id": "5282d4ad",
   "metadata": {},
   "outputs": [
    {
     "name": "stdout",
     "output_type": "stream",
     "text": [
      "Input your First Name = Muhammad\n",
      "Input your Last Name = Umair\n",
      "Umair Muhammad\n"
     ]
    }
   ],
   "source": [
    "\"\"\"5. Write a Python program which accepts the user's first and last name and print them in\n",
    "      reverse order with a space between them\"\"\"\n",
    "\n",
    "first_name = input(\"Input your First Name = \");\n",
    "last_name = input(\"Input your Last Name = \");\n",
    "print(last_name + \" \" + first_name);"
   ]
  },
  {
   "cell_type": "code",
   "execution_count": 6,
   "id": "5e84d019",
   "metadata": {},
   "outputs": [
    {
     "name": "stdout",
     "output_type": "stream",
     "text": [
      "enter first number = 20\n",
      "enter second number = 70\n",
      "sum = 90\n"
     ]
    }
   ],
   "source": [
    "# 6. Write a python program which takes two inputs from user and print them addition?\n",
    "num1 = int(input(\"enter first number = \"));\n",
    "num2 = int(input(\"enter second number = \"));\n",
    "sum = num1 + num2;\n",
    "print(\"sum =\", sum);"
   ]
  },
  {
   "cell_type": "code",
   "execution_count": 25,
   "id": "41fa0cf3",
   "metadata": {},
   "outputs": [
    {
     "name": "stdout",
     "output_type": "stream",
     "text": [
      "Enter English Marks = 81\n",
      "Enter Urdu Marks = 89\n",
      "Enter Islamiat Marks = 80\n",
      "Enter Mathematics Marks = 90\n",
      "Enter Social Studies Marks = 94\n",
      "Total Marks = 500\n",
      "obtained Marks = 434\n",
      "Percentage = 86.8\n",
      "Grade = A\n"
     ]
    }
   ],
   "source": [
    "\"\"\"7. Write a program which takes 5 inputs from user for different subject’s marks, total it\n",
    "      and generate mark sheet using grades ?\"\"\"\n",
    "\n",
    "english = int(input(\"Enter English Marks = \"));\n",
    "urdu = int(input(\"Enter Urdu Marks = \"));\n",
    "islamiat = int(input(\"Enter Islamiat Marks = \"));\n",
    "mathematics = int(input(\"Enter Mathematics Marks = \"));\n",
    "social_studies = int(input(\"Enter Social Studies Marks = \"));\n",
    "total = 500;\n",
    "print(\"Total Marks =\", total);\n",
    "obtained_marks = english + urdu + islamiat + mathematics + social_studies\n",
    "print(\"obtained Marks =\", obtained_marks);\n",
    "percentage = float((obtained_marks/total)*100);\n",
    "print(\"Percentage =\", percentage);\n",
    "if percentage <= 100 and percentage >= 90:\n",
    "    print(\"Grade = A+\");\n",
    "elif percentage < 90 and percentage >= 70:\n",
    "    print(\"Grade = A\");\n",
    "elif percentage < 70 and percentage >= 60:\n",
    "    print(\"Grade = B\");\n",
    "elif percentage < 60 and percentage >= 50:\n",
    "    print(\"Grade = C\");\n",
    "elif percentage < 50 and percentage >= 40:\n",
    "    print(\"Grade = D\");\n",
    "elif percentage < 40 and percentage >= 33:\n",
    "    print(\"Grade = E\");\n",
    "elif percentage < 33:  \n",
    "    print(\"You Are Fail\");\n",
    "else:\n",
    "    print(\"Please Enter The Valid Percentage\");"
   ]
  },
  {
   "cell_type": "code",
   "execution_count": 8,
   "id": "83184162",
   "metadata": {},
   "outputs": [
    {
     "name": "stdout",
     "output_type": "stream",
     "text": [
      "Enter a number = 10\n",
      "This is an even number\n"
     ]
    }
   ],
   "source": [
    "\"\"\"8. Write a program which take input from user and identify that the given number is even\n",
    "      or odd?\"\"\"\n",
    "num = int(input(\"Enter a number = \"));\n",
    "mod = num % 2;\n",
    "if mod > 0: \n",
    "    print(\"This is an odd number\");\n",
    "else: print(\"This is an even number\");"
   ]
  },
  {
   "cell_type": "code",
   "execution_count": 18,
   "id": "0c735619",
   "metadata": {},
   "outputs": [
    {
     "name": "stdout",
     "output_type": "stream",
     "text": [
      "Number of items in the list =  5\n"
     ]
    }
   ],
   "source": [
    "# 9. Write a program which print the length of the list?\n",
    "listname = [1, 7, 4, False, \"Umair\", ];\n",
    "print (\"Number of items in the list = \", len(listname));"
   ]
  },
  {
   "cell_type": "code",
   "execution_count": 19,
   "id": "afd16c92",
   "metadata": {},
   "outputs": [
    {
     "name": "stdout",
     "output_type": "stream",
     "text": [
      "80\n"
     ]
    }
   ],
   "source": [
    "# 10. Write a Python program to sum all the numeric items in a list?\n",
    "list = [5, 10, 15, 20, 30];\n",
    "tot = sum(list)\n",
    "print(tot);"
   ]
  },
  {
   "cell_type": "code",
   "execution_count": 17,
   "id": "83c66c34",
   "metadata": {},
   "outputs": [
    {
     "name": "stdout",
     "output_type": "stream",
     "text": [
      "Largest number is = 30\n"
     ]
    }
   ],
   "source": [
    "# 11. Write a Python program to get the largest number from a numeric list?\n",
    "list = [5, 10, 15, 20, 30];\n",
    "print(\"Largest number is =\", max(list));"
   ]
  },
  {
   "cell_type": "code",
   "execution_count": 14,
   "id": "134e3ed5",
   "metadata": {},
   "outputs": [
    {
     "name": "stdout",
     "output_type": "stream",
     "text": [
      "1\n",
      "1\n",
      "2\n",
      "3\n"
     ]
    }
   ],
   "source": [
    "\"\"\"12. Write a program that prints out all the elements of the list that are less than 5? \n",
    "       Example a = [1, 1, 2, 3, 5, 8, 13, 21, 34, 55, 89]\"\"\"\n",
    "a = [1, 1, 2, 3, 5, 8, 13, 21, 34, 55, 89];\n",
    "for i in a:\n",
    "    if i < 5:\n",
    "        print(i);"
   ]
  },
  {
   "cell_type": "code",
   "execution_count": null,
   "id": "3d984df7",
   "metadata": {},
   "outputs": [],
   "source": []
  }
 ],
 "metadata": {
  "kernelspec": {
   "display_name": "Python 3",
   "language": "python",
   "name": "python3"
  },
  "language_info": {
   "codemirror_mode": {
    "name": "ipython",
    "version": 3
   },
   "file_extension": ".py",
   "mimetype": "text/x-python",
   "name": "python",
   "nbconvert_exporter": "python",
   "pygments_lexer": "ipython3",
   "version": "3.8.8"
  }
 },
 "nbformat": 4,
 "nbformat_minor": 5
}
